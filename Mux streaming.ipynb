{
 "cells": [
  {
   "cell_type": "code",
   "execution_count": 29,
   "id": "9b168a19-9bac-4a7c-931d-c410fdf034c4",
   "metadata": {},
   "outputs": [],
   "source": [
    "# !pip install mux_python"
   ]
  },
  {
   "cell_type": "code",
   "execution_count": 47,
   "id": "ec5f485a-6dd0-40d2-a7d4-cbb88a34f7b1",
   "metadata": {},
   "outputs": [],
   "source": [
    "import os\n",
    "import time\n",
    "import mux_python\n",
    "from mux_python.rest import ApiException\n",
    "\n",
    "# Authentication Setup\n",
    "configuration = mux_python.Configuration()\n",
    "configuration.username = 'a4867df6-a4ef-483e-8bd7-31a81158400f' # access token id\n",
    "configuration.password = 'OcnYFc4LJBXpvf1YTT3jC8JSIOoapUaCOriviLm2vJC4PKt5VSI7yVVrp+Kt3fQ3yXRL3xjTTcO' # secret key"
   ]
  },
  {
   "cell_type": "code",
   "execution_count": 48,
   "id": "f9d97780-edce-4295-b6a4-ce06fc567487",
   "metadata": {},
   "outputs": [],
   "source": [
    "# API Client Initialization\n",
    "live_api = mux_python.LiveStreamsApi(mux_python.ApiClient(configuration))"
   ]
  },
  {
   "cell_type": "code",
   "execution_count": 56,
   "id": "1ba0a02e-4cc5-4841-8fce-f5736687b2c8",
   "metadata": {},
   "outputs": [],
   "source": [
    "# Create a live stream\n",
    "new_asset_settings = mux_python.CreateAssetRequest(playback_policy=[mux_python.PlaybackPolicy.PUBLIC])\n",
    "create_live_stream_request = mux_python.CreateLiveStreamRequest(playback_policy=[mux_python.PlaybackPolicy.PUBLIC], new_asset_settings=new_asset_settings)\n",
    "create_live_stream_response = live_api.create_live_stream(create_live_stream_request)"
   ]
  },
  {
   "cell_type": "code",
   "execution_count": 57,
   "id": "dbc17de4-e11b-47b2-8078-62d5beb2b807",
   "metadata": {},
   "outputs": [
    {
     "name": "stdout",
     "output_type": "stream",
     "text": [
      "New Live Stream created!\n",
      "RTMP Endpoint: rtmp://live.mux.com/app\n",
      "Stream Key: c38a5b0b-751a-c6ca-277f-c16a6fc82a6d\n",
      "Playback id: tRwtcyfHNKidPoiOSoZxCnIf55aDmtUi5y02yHY54iLc\n",
      "ID: 7Q5ITEc502400VVMXT01PydQ2Pyh8bLdRH802EyfpZluYyM\n"
     ]
    }
   ],
   "source": [
    "# Give back the RTMP entry point playback endpoint\n",
    "print(\"New Live Stream created!\")\n",
    "print(\"RTMP Endpoint: rtmp://live.mux.com/app\")\n",
    "print(\"Stream Key: \" + create_live_stream_response.data.stream_key)\n",
    "print(\"Playback id: \" + create_live_stream_response.data.playback_ids[0].id)\n",
    "print(\"ID: \" + create_live_stream_response.data.id)"
   ]
  },
  {
   "cell_type": "code",
   "execution_count": null,
   "id": "d98a1267-a536-495a-9c26-8df123f9e2f5",
   "metadata": {},
   "outputs": [],
   "source": []
  }
 ],
 "metadata": {
  "kernelspec": {
   "display_name": "Python 3",
   "language": "python",
   "name": "python3"
  },
  "language_info": {
   "codemirror_mode": {
    "name": "ipython",
    "version": 3
   },
   "file_extension": ".py",
   "mimetype": "text/x-python",
   "name": "python",
   "nbconvert_exporter": "python",
   "pygments_lexer": "ipython3",
   "version": "3.8.8"
  }
 },
 "nbformat": 4,
 "nbformat_minor": 5
}
